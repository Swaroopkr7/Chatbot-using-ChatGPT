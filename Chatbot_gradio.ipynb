{
 "cells": [
  {
   "cell_type": "code",
   "execution_count": null,
   "metadata": {},
   "outputs": [],
   "source": [
    "import openai\n",
    "import gradio as gr\n",
    "import random\n",
    "import time\n",
    "\n",
    "openai.api_key = OPENAI_KPI_KEY\n",
    "\n",
    "messages = [{\"role\": \"system\", \"content\": \"You are a financial expert that specializes in real estate investment and negotiation\"}]\n",
    "\n",
    "def CustomChatGPT(user_input):\n",
    "    messages.append({\"role\": \"user\", \"content\": user_input})\n",
    "    response = openai.ChatCompletion.create(\n",
    "        model=\"gpt-3.5-turbo\",\n",
    "        messages=messages\n",
    "    )\n",
    "    ChatGPT_reply = response[\"choices\"][0][\"message\"][\"content\"]\n",
    "    messages.append({\"role\": \"assistant\", \"content\": ChatGPT_reply})\n",
    "    return ChatGPT_reply\n",
    "\n",
    "with gr.Blocks() as demo:\n",
    "    # Define the chatbot interface using Gradio's Chatbot block\n",
    "    chatbot = gr.Chatbot()\n",
    "    msg = gr.Textbox()\n",
    "    clear = gr.ClearButton([msg, chatbot])\n",
    "\n",
    "    def respond(message, chat_history):\n",
    "        # Call the CustomChatGPT function to get the response from the OpenAI GPT-3.5 model\n",
    "        bot_message = CustomChatGPT(message)\n",
    "        chat_history.append((message, bot_message))\n",
    "        time.sleep(2)  # Optional delay for illustration purposes\n",
    "        return \"\", chat_history\n",
    "\n",
    "    msg.submit(respond, [msg, chatbot], [msg, chatbot])\n",
    "\n",
    "demo.launch()"
   ]
  }
 ],
 "metadata": {
  "language_info": {
   "name": "python"
  },
  "orig_nbformat": 4
 },
 "nbformat": 4,
 "nbformat_minor": 2
}
