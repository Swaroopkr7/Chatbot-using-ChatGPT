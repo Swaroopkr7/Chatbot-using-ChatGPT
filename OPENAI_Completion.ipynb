OPENAI_KPI_KEY = "sk-###"
openai.api_key = OPENAI_KPI_KEY

response = openai.Completion.create(
    model = "text-curie-001",
    prompt ="What is capital of karnataka?",
    max_tokens=25,
    temperature = 0.5,
    n=5
)

response
